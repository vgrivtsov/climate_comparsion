{
 "cells": [
  {
   "cell_type": "code",
   "execution_count": 1,
   "metadata": {
    "collapsed": true
   },
   "outputs": [],
   "source": [
    "#!/usr/bin/env python\n",
    "# -*- coding: utf-8 -*- \n",
    "from IPython.core.display import display, HTML #HTML output for ipython notebook\n",
    "from osgeo import gdal\n",
    "from geopy.geocoders import Nominatim\n",
    "from collections import OrderedDict\n",
    "from prettytable import PrettyTable\n",
    "from prettytable import from_html\n",
    "import calendar\n",
    "import os\n",
    "import numpy as np\n",
    "from numpy import ma\n",
    "from collections import Counter"
   ]
  },
  {
   "cell_type": "code",
   "execution_count": 66,
   "metadata": {
    "collapsed": true
   },
   "outputs": [],
   "source": [
    "path = 'data'\n",
    "city = 'Igornay'\n",
    "bit_value = 4 # bit number for values\n",
    "g = Nominatim().geocode(city, timeout=5)\n",
    "position = (g.longitude, g.latitude)"
   ]
  },
  {
   "cell_type": "code",
   "execution_count": 67,
   "metadata": {
    "collapsed": true
   },
   "outputs": [],
   "source": [
    "def get_value_at_point(rasterfile, pos):\n",
    "    # Extract raster data value at a point:\n",
    "    gdata = gdal.Open(rasterfile)\n",
    "    gt = gdata.GetGeoTransform()\n",
    "    band = gdata.GetRasterBand(1)\n",
    "    nodata = band.GetNoDataValue()     \n",
    "    data = gdata.ReadAsArray().astype(np.float)\n",
    "    gdata = None\n",
    "    masked_data = ma.masked_values(data, nodata, copy=False) # mask no value data\n",
    "    masked_data.fill_value = nodata\n",
    "    d_values = np.around(masked_data, decimals=bit_value) # rounding values\n",
    "    x = int((pos[0] - gt[0])/gt[1])\n",
    "    y = int((pos[1] - gt[3])/gt[5])    \n",
    "    x_value = round(d_values[y, x], bit_value) # desired quantity\n",
    "    \n",
    "    # search coordinates which corresponded by overlapped value:\n",
    "    search_pix = zip(*np.where(d_values == x_value)) # search pixel cootdinates\n",
    "    overlapped = map(lambda pix :(round(gt[3] + pix[1] * gt[4] + pix[0] * gt[5], 4), # lat\n",
    "                  round(gt[0] + pix[1] * gt[1] + pix[0] * gt[2], 4)), search_pix) # # long\n",
    "    \n",
    "    return x_value, overlapped\n"
   ]
  },
  {
   "cell_type": "code",
   "execution_count": 68,
   "metadata": {
    "collapsed": true
   },
   "outputs": [],
   "source": [
    "def ext_data():\n",
    "    result_data = []\n",
    "    val_dataset = sorted(os.listdir(path))\n",
    "    for val in val_dataset: # list of datasets by climate values\n",
    "        res = []\n",
    "        ovp = []\n",
    "        for m in [x for x in range(1,13)]: #get data by month(from datasets like wc2.0_5m_tmax_01.tif) \n",
    "            result = get_value_at_point('data/%s/wc2.0_5m_%s_%02d.tif' % (val, val, m), position)\n",
    "            res.append(result) \n",
    "\n",
    "        result_data.append((val, res))\n",
    "    return result_data, val_dataset"
   ]
  },
  {
   "cell_type": "code",
   "execution_count": 69,
   "metadata": {
    "collapsed": true
   },
   "outputs": [],
   "source": [
    "def output_table(extdata):\n",
    "    mgen_names = [calendar.month_name[x] for x in range(1,13)]\n",
    "    table = PrettyTable()\n",
    "    table.add_column(\"Month\", mgen_names)\n",
    "    for k in extdata[0]:\n",
    "        vals = [j[0] for j in k[1]]\n",
    "       # print vals\n",
    "        table.add_column(k[0], vals)\n",
    "    print(city)\n",
    "    #print(table)\n",
    "    #HTML output for ipython notebook:\n",
    "    htmltable = table.get_html_string()\n",
    "    display(HTML(htmltable))    \n"
   ]
  },
  {
   "cell_type": "code",
   "execution_count": 70,
   "metadata": {
    "collapsed": true
   },
   "outputs": [],
   "source": [
    "extdata = ext_data() # extract data"
   ]
  },
  {
   "cell_type": "code",
   "execution_count": 71,
   "metadata": {},
   "outputs": [
    {
     "name": "stdout",
     "output_type": "stream",
     "text": [
      "Igornay\n"
     ]
    },
    {
     "data": {
      "text/html": [
       "<table>\n",
       "    <tr>\n",
       "        <th>Month</th>\n",
       "        <th>tavg</th>\n",
       "    </tr>\n",
       "    <tr>\n",
       "        <td>January</td>\n",
       "        <td>1.869</td>\n",
       "    </tr>\n",
       "    <tr>\n",
       "        <td>February</td>\n",
       "        <td>2.731</td>\n",
       "    </tr>\n",
       "    <tr>\n",
       "        <td>March</td>\n",
       "        <td>6.426</td>\n",
       "    </tr>\n",
       "    <tr>\n",
       "        <td>April</td>\n",
       "        <td>8.41</td>\n",
       "    </tr>\n",
       "    <tr>\n",
       "        <td>May</td>\n",
       "        <td>12.68</td>\n",
       "    </tr>\n",
       "    <tr>\n",
       "        <td>June</td>\n",
       "        <td>15.793</td>\n",
       "    </tr>\n",
       "    <tr>\n",
       "        <td>July</td>\n",
       "        <td>18.878</td>\n",
       "    </tr>\n",
       "    <tr>\n",
       "        <td>August</td>\n",
       "        <td>18.514</td>\n",
       "    </tr>\n",
       "    <tr>\n",
       "        <td>September</td>\n",
       "        <td>15.013</td>\n",
       "    </tr>\n",
       "    <tr>\n",
       "        <td>October</td>\n",
       "        <td>10.678</td>\n",
       "    </tr>\n",
       "    <tr>\n",
       "        <td>November</td>\n",
       "        <td>5.367</td>\n",
       "    </tr>\n",
       "    <tr>\n",
       "        <td>December</td>\n",
       "        <td>2.979</td>\n",
       "    </tr>\n",
       "</table>"
      ],
      "text/plain": [
       "<IPython.core.display.HTML object>"
      ]
     },
     "metadata": {},
     "output_type": "display_data"
    }
   ],
   "source": [
    "output = output_table(extdata) # print table "
   ]
  },
  {
   "cell_type": "code",
   "execution_count": 72,
   "metadata": {
    "collapsed": true
   },
   "outputs": [],
   "source": [
    "def check_func(rasterfile, pos):\n",
    "    gdata = gdal.Open(rasterfile)\n",
    "    gt = gdata.GetGeoTransform()\n",
    "    band = gdata.GetRasterBand(1)\n",
    "    nodata = band.GetNoDataValue()     \n",
    "    data = gdata.ReadAsArray().astype(np.float)\n",
    "    gdata = None\n",
    "    masked_data = ma.masked_values(data, nodata, copy=False) # mask no value data\n",
    "    masked_data.fill_value = nodata\n",
    "    d_values = np.around(masked_data, decimals=bit_value) # rounding values\n",
    "    x = int((pos[0] - gt[0])/gt[1])\n",
    "    y = int((pos[1] - gt[3])/gt[5]) \n",
    "    x_value = round(d_values[y, x], bit_value) \n",
    "    \n",
    "    return rasterfile, (pos[1],pos[0]), x_value"
   ]
  },
  {
   "cell_type": "code",
   "execution_count": 73,
   "metadata": {},
   "outputs": [],
   "source": [
    "def check_ext_data(extdata):\n",
    "    result_data = []\n",
    "    for i in extdata[0]:\n",
    "        for idx, k in enumerate(i[1]): # i[1] - months\n",
    "            print calendar.month_name[idx+1]\n",
    "            for j in k[1]:\n",
    "                #print j, k[0]\n",
    "                result_data.append(j)\n",
    "                result = check_func('data/tavg/wc2.0_5m_tavg_%02d.tif' % (idx+1), (j[1], j[0]) ) \n",
    "                print result\n",
    "    return result_data"
   ]
  },
  {
   "cell_type": "code",
   "execution_count": 74,
   "metadata": {},
   "outputs": [
    {
     "name": "stdout",
     "output_type": "stream",
     "text": [
      "January\n",
      "('data/tavg/wc2.0_5m_tavg_01.tif', (47.5833, -123.9167), 2.293)\n",
      "('data/tavg/wc2.0_5m_tavg_01.tif', (47.0833, 4.3333), 1.815)\n",
      "('data/tavg/wc2.0_5m_tavg_01.tif', (45.3333, 5.25), 1.869)\n",
      "('data/tavg/wc2.0_5m_tavg_01.tif', (41.0, 66.25), 1.869)\n",
      "('data/tavg/wc2.0_5m_tavg_01.tif', (40.3333, 20.5), 1.869)\n",
      "('data/tavg/wc2.0_5m_tavg_01.tif', (39.1667, 29.0), 0.191)\n",
      "('data/tavg/wc2.0_5m_tavg_01.tif', (36.9167, -79.9167), 1.725)\n",
      "('data/tavg/wc2.0_5m_tavg_01.tif', (36.75, 64.0), 1.869)\n",
      "('data/tavg/wc2.0_5m_tavg_01.tif', (36.6667, 55.8333), 1.206)\n",
      "('data/tavg/wc2.0_5m_tavg_01.tif', (36.6667, 65.4167), 1.856)\n",
      "('data/tavg/wc2.0_5m_tavg_01.tif', (36.5833, -113.5), 1.869)\n",
      "('data/tavg/wc2.0_5m_tavg_01.tif', (36.1667, -90.0), 1.676)\n",
      "('data/tavg/wc2.0_5m_tavg_01.tif', (36.1667, 64.6667), 2.124)\n",
      "('data/tavg/wc2.0_5m_tavg_01.tif', (36.0833, 64.5), 1.869)\n",
      "('data/tavg/wc2.0_5m_tavg_01.tif', (35.6667, -99.1667), 1.68)\n",
      "('data/tavg/wc2.0_5m_tavg_01.tif', (35.25, -106.6667), 1.788)\n",
      "('data/tavg/wc2.0_5m_tavg_01.tif', (35.25, -101.75), 1.869)\n",
      "('data/tavg/wc2.0_5m_tavg_01.tif', (34.75, 50.25), 1.869)\n",
      "February\n",
      "('data/tavg/wc2.0_5m_tavg_02.tif', (57.5, -5.5), 2.731)\n",
      "('data/tavg/wc2.0_5m_tavg_02.tif', (57.5, -4.0), 2.731)\n",
      "('data/tavg/wc2.0_5m_tavg_02.tif', (49.25, 5.9167), 2.731)\n",
      "('data/tavg/wc2.0_5m_tavg_02.tif', (48.0, 4.4167), 2.731)\n",
      "('data/tavg/wc2.0_5m_tavg_02.tif', (47.0833, 4.3333), 2.626)\n",
      "('data/tavg/wc2.0_5m_tavg_02.tif', (42.25, -2.9167), 1.28)\n",
      "('data/tavg/wc2.0_5m_tavg_02.tif', (42.25, 51.5), 2.731)\n",
      "('data/tavg/wc2.0_5m_tavg_02.tif', (42.0, 25.25), 2.731)\n",
      "('data/tavg/wc2.0_5m_tavg_02.tif', (41.9167, 21.8333), 2.132)\n",
      "('data/tavg/wc2.0_5m_tavg_02.tif', (40.25, 53.4167), 2.731)\n",
      "('data/tavg/wc2.0_5m_tavg_02.tif', (39.6667, 56.25), 2.371)\n"
     ]
    },
    {
     "ename": "KeyboardInterrupt",
     "evalue": "",
     "output_type": "error",
     "traceback": [
      "\u001b[0;31m---------------------------------------------------------------------------\u001b[0m",
      "\u001b[0;31mKeyboardInterrupt\u001b[0m                         Traceback (most recent call last)",
      "\u001b[0;32m<ipython-input-74-220cd0338f64>\u001b[0m in \u001b[0;36m<module>\u001b[0;34m()\u001b[0m\n\u001b[0;32m----> 1\u001b[0;31m \u001b[0mcheck_ext_data\u001b[0m\u001b[0;34m(\u001b[0m\u001b[0mextdata\u001b[0m\u001b[0;34m)\u001b[0m\u001b[0;34m\u001b[0m\u001b[0m\n\u001b[0m",
      "\u001b[0;32m<ipython-input-73-4471efd0a898>\u001b[0m in \u001b[0;36mcheck_ext_data\u001b[0;34m(extdata)\u001b[0m\n\u001b[1;32m      7\u001b[0m                 \u001b[0;31m#print j, k[0]\u001b[0m\u001b[0;34m\u001b[0m\u001b[0;34m\u001b[0m\u001b[0m\n\u001b[1;32m      8\u001b[0m                 \u001b[0mresult_data\u001b[0m\u001b[0;34m.\u001b[0m\u001b[0mappend\u001b[0m\u001b[0;34m(\u001b[0m\u001b[0mj\u001b[0m\u001b[0;34m)\u001b[0m\u001b[0;34m\u001b[0m\u001b[0m\n\u001b[0;32m----> 9\u001b[0;31m                 \u001b[0mresult\u001b[0m \u001b[0;34m=\u001b[0m \u001b[0mcheck_func\u001b[0m\u001b[0;34m(\u001b[0m\u001b[0;34m'data/tavg/wc2.0_5m_tavg_%02d.tif'\u001b[0m \u001b[0;34m%\u001b[0m \u001b[0;34m(\u001b[0m\u001b[0midx\u001b[0m\u001b[0;34m+\u001b[0m\u001b[0;36m1\u001b[0m\u001b[0;34m)\u001b[0m\u001b[0;34m,\u001b[0m \u001b[0;34m(\u001b[0m\u001b[0mj\u001b[0m\u001b[0;34m[\u001b[0m\u001b[0;36m1\u001b[0m\u001b[0;34m]\u001b[0m\u001b[0;34m,\u001b[0m \u001b[0mj\u001b[0m\u001b[0;34m[\u001b[0m\u001b[0;36m0\u001b[0m\u001b[0;34m]\u001b[0m\u001b[0;34m)\u001b[0m \u001b[0;34m)\u001b[0m\u001b[0;34m\u001b[0m\u001b[0m\n\u001b[0m\u001b[1;32m     10\u001b[0m                 \u001b[0;32mprint\u001b[0m \u001b[0mresult\u001b[0m\u001b[0;34m\u001b[0m\u001b[0m\n\u001b[1;32m     11\u001b[0m     \u001b[0;32mreturn\u001b[0m \u001b[0mresult_data\u001b[0m\u001b[0;34m\u001b[0m\u001b[0m\n",
      "\u001b[0;32m<ipython-input-72-b46d4d88f993>\u001b[0m in \u001b[0;36mcheck_func\u001b[0;34m(rasterfile, pos)\u001b[0m\n\u001b[1;32m      8\u001b[0m     \u001b[0mmasked_data\u001b[0m \u001b[0;34m=\u001b[0m \u001b[0mma\u001b[0m\u001b[0;34m.\u001b[0m\u001b[0mmasked_values\u001b[0m\u001b[0;34m(\u001b[0m\u001b[0mdata\u001b[0m\u001b[0;34m,\u001b[0m \u001b[0mnodata\u001b[0m\u001b[0;34m,\u001b[0m \u001b[0mcopy\u001b[0m\u001b[0;34m=\u001b[0m\u001b[0mFalse\u001b[0m\u001b[0;34m)\u001b[0m \u001b[0;31m# mask no value data\u001b[0m\u001b[0;34m\u001b[0m\u001b[0m\n\u001b[1;32m      9\u001b[0m     \u001b[0mmasked_data\u001b[0m\u001b[0;34m.\u001b[0m\u001b[0mfill_value\u001b[0m \u001b[0;34m=\u001b[0m \u001b[0mnodata\u001b[0m\u001b[0;34m\u001b[0m\u001b[0m\n\u001b[0;32m---> 10\u001b[0;31m     \u001b[0md_values\u001b[0m \u001b[0;34m=\u001b[0m \u001b[0mnp\u001b[0m\u001b[0;34m.\u001b[0m\u001b[0maround\u001b[0m\u001b[0;34m(\u001b[0m\u001b[0mmasked_data\u001b[0m\u001b[0;34m,\u001b[0m \u001b[0mdecimals\u001b[0m\u001b[0;34m=\u001b[0m\u001b[0mbit_value\u001b[0m\u001b[0;34m)\u001b[0m \u001b[0;31m# rounding values\u001b[0m\u001b[0;34m\u001b[0m\u001b[0m\n\u001b[0m\u001b[1;32m     11\u001b[0m     \u001b[0mx\u001b[0m \u001b[0;34m=\u001b[0m \u001b[0mint\u001b[0m\u001b[0;34m(\u001b[0m\u001b[0;34m(\u001b[0m\u001b[0mpos\u001b[0m\u001b[0;34m[\u001b[0m\u001b[0;36m0\u001b[0m\u001b[0;34m]\u001b[0m \u001b[0;34m-\u001b[0m \u001b[0mgt\u001b[0m\u001b[0;34m[\u001b[0m\u001b[0;36m0\u001b[0m\u001b[0;34m]\u001b[0m\u001b[0;34m)\u001b[0m\u001b[0;34m/\u001b[0m\u001b[0mgt\u001b[0m\u001b[0;34m[\u001b[0m\u001b[0;36m1\u001b[0m\u001b[0;34m]\u001b[0m\u001b[0;34m)\u001b[0m\u001b[0;34m\u001b[0m\u001b[0m\n\u001b[1;32m     12\u001b[0m     \u001b[0my\u001b[0m \u001b[0;34m=\u001b[0m \u001b[0mint\u001b[0m\u001b[0;34m(\u001b[0m\u001b[0;34m(\u001b[0m\u001b[0mpos\u001b[0m\u001b[0;34m[\u001b[0m\u001b[0;36m1\u001b[0m\u001b[0;34m]\u001b[0m \u001b[0;34m-\u001b[0m \u001b[0mgt\u001b[0m\u001b[0;34m[\u001b[0m\u001b[0;36m3\u001b[0m\u001b[0;34m]\u001b[0m\u001b[0;34m)\u001b[0m\u001b[0;34m/\u001b[0m\u001b[0mgt\u001b[0m\u001b[0;34m[\u001b[0m\u001b[0;36m5\u001b[0m\u001b[0;34m]\u001b[0m\u001b[0;34m)\u001b[0m\u001b[0;34m\u001b[0m\u001b[0m\n",
      "\u001b[0;32m/root/anaconda2/lib/python2.7/site-packages/numpy/core/fromnumeric.pyc\u001b[0m in \u001b[0;36maround\u001b[0;34m(a, decimals, out)\u001b[0m\n\u001b[1;32m   2767\u001b[0m \u001b[0;34m\u001b[0m\u001b[0m\n\u001b[1;32m   2768\u001b[0m     \"\"\"\n\u001b[0;32m-> 2769\u001b[0;31m     \u001b[0;32mreturn\u001b[0m \u001b[0m_wrapfunc\u001b[0m\u001b[0;34m(\u001b[0m\u001b[0ma\u001b[0m\u001b[0;34m,\u001b[0m \u001b[0;34m'round'\u001b[0m\u001b[0;34m,\u001b[0m \u001b[0mdecimals\u001b[0m\u001b[0;34m=\u001b[0m\u001b[0mdecimals\u001b[0m\u001b[0;34m,\u001b[0m \u001b[0mout\u001b[0m\u001b[0;34m=\u001b[0m\u001b[0mout\u001b[0m\u001b[0;34m)\u001b[0m\u001b[0;34m\u001b[0m\u001b[0m\n\u001b[0m\u001b[1;32m   2770\u001b[0m \u001b[0;34m\u001b[0m\u001b[0m\n\u001b[1;32m   2771\u001b[0m \u001b[0;34m\u001b[0m\u001b[0m\n",
      "\u001b[0;32m/root/anaconda2/lib/python2.7/site-packages/numpy/core/fromnumeric.pyc\u001b[0m in \u001b[0;36m_wrapfunc\u001b[0;34m(obj, method, *args, **kwds)\u001b[0m\n\u001b[1;32m     55\u001b[0m \u001b[0;32mdef\u001b[0m \u001b[0m_wrapfunc\u001b[0m\u001b[0;34m(\u001b[0m\u001b[0mobj\u001b[0m\u001b[0;34m,\u001b[0m \u001b[0mmethod\u001b[0m\u001b[0;34m,\u001b[0m \u001b[0;34m*\u001b[0m\u001b[0margs\u001b[0m\u001b[0;34m,\u001b[0m \u001b[0;34m**\u001b[0m\u001b[0mkwds\u001b[0m\u001b[0;34m)\u001b[0m\u001b[0;34m:\u001b[0m\u001b[0;34m\u001b[0m\u001b[0m\n\u001b[1;32m     56\u001b[0m     \u001b[0;32mtry\u001b[0m\u001b[0;34m:\u001b[0m\u001b[0;34m\u001b[0m\u001b[0m\n\u001b[0;32m---> 57\u001b[0;31m         \u001b[0;32mreturn\u001b[0m \u001b[0mgetattr\u001b[0m\u001b[0;34m(\u001b[0m\u001b[0mobj\u001b[0m\u001b[0;34m,\u001b[0m \u001b[0mmethod\u001b[0m\u001b[0;34m)\u001b[0m\u001b[0;34m(\u001b[0m\u001b[0;34m*\u001b[0m\u001b[0margs\u001b[0m\u001b[0;34m,\u001b[0m \u001b[0;34m**\u001b[0m\u001b[0mkwds\u001b[0m\u001b[0;34m)\u001b[0m\u001b[0;34m\u001b[0m\u001b[0m\n\u001b[0m\u001b[1;32m     58\u001b[0m \u001b[0;34m\u001b[0m\u001b[0m\n\u001b[1;32m     59\u001b[0m     \u001b[0;31m# An AttributeError occurs if the object does not have\u001b[0m\u001b[0;34m\u001b[0m\u001b[0;34m\u001b[0m\u001b[0m\n",
      "\u001b[0;32m/root/anaconda2/lib/python2.7/site-packages/numpy/ma/core.pyc\u001b[0m in \u001b[0;36mround\u001b[0;34m(self, decimals, out)\u001b[0m\n\u001b[1;32m   5215\u001b[0m         \u001b[0mnumpy\u001b[0m\u001b[0;34m.\u001b[0m\u001b[0maround\u001b[0m \u001b[0;34m:\u001b[0m \u001b[0mequivalent\u001b[0m \u001b[0mfunction\u001b[0m\u001b[0;34m\u001b[0m\u001b[0m\n\u001b[1;32m   5216\u001b[0m         \"\"\"\n\u001b[0;32m-> 5217\u001b[0;31m         \u001b[0mresult\u001b[0m \u001b[0;34m=\u001b[0m \u001b[0mself\u001b[0m\u001b[0;34m.\u001b[0m\u001b[0m_data\u001b[0m\u001b[0;34m.\u001b[0m\u001b[0mround\u001b[0m\u001b[0;34m(\u001b[0m\u001b[0mdecimals\u001b[0m\u001b[0;34m=\u001b[0m\u001b[0mdecimals\u001b[0m\u001b[0;34m,\u001b[0m \u001b[0mout\u001b[0m\u001b[0;34m=\u001b[0m\u001b[0mout\u001b[0m\u001b[0;34m)\u001b[0m\u001b[0;34m.\u001b[0m\u001b[0mview\u001b[0m\u001b[0;34m(\u001b[0m\u001b[0mtype\u001b[0m\u001b[0;34m(\u001b[0m\u001b[0mself\u001b[0m\u001b[0;34m)\u001b[0m\u001b[0;34m)\u001b[0m\u001b[0;34m\u001b[0m\u001b[0m\n\u001b[0m\u001b[1;32m   5218\u001b[0m         \u001b[0;32mif\u001b[0m \u001b[0mresult\u001b[0m\u001b[0;34m.\u001b[0m\u001b[0mndim\u001b[0m \u001b[0;34m>\u001b[0m \u001b[0;36m0\u001b[0m\u001b[0;34m:\u001b[0m\u001b[0;34m\u001b[0m\u001b[0m\n\u001b[1;32m   5219\u001b[0m             \u001b[0mresult\u001b[0m\u001b[0;34m.\u001b[0m\u001b[0m_mask\u001b[0m \u001b[0;34m=\u001b[0m \u001b[0mself\u001b[0m\u001b[0;34m.\u001b[0m\u001b[0m_mask\u001b[0m\u001b[0;34m\u001b[0m\u001b[0m\n",
      "\u001b[0;31mKeyboardInterrupt\u001b[0m: "
     ]
    }
   ],
   "source": [
    "check_ext_data(extdata)"
   ]
  },
  {
   "cell_type": "code",
   "execution_count": 80,
   "metadata": {
    "collapsed": true
   },
   "outputs": [],
   "source": [
    "import gmaps\n",
    "import gmaps.datasets\n",
    "gmaps.configure(api_key=\" \")"
   ]
  },
  {
   "cell_type": "code",
   "execution_count": 76,
   "metadata": {},
   "outputs": [],
   "source": [
    "def mapdata(extdata): # get array of overlapped coordinates\n",
    "    result_data = []\n",
    "    \n",
    "    for i in extdata[0]:\n",
    "        for idx, k in enumerate(i[1]): # i[1] - months\n",
    "            result_data.append(k[1])\n",
    "    \n",
    "    #for i in extdata[0]:        \n",
    "    #    for k in i[1][0][1]:\n",
    "            \n",
    "    return result_data"
   ]
  },
  {
   "cell_type": "code",
   "execution_count": 77,
   "metadata": {
    "collapsed": true
   },
   "outputs": [],
   "source": [
    "mapdata = mapdata(extdata)"
   ]
  },
  {
   "cell_type": "code",
   "execution_count": 78,
   "metadata": {},
   "outputs": [],
   "source": [
    "#print mapdata[0]"
   ]
  },
  {
   "cell_type": "code",
   "execution_count": 79,
   "metadata": {},
   "outputs": [
    {
     "name": "stdout",
     "output_type": "stream",
     "text": [
      "Yellow: January\n",
      "Silver: February\n",
      "Red: March\n",
      "Gray: April\n",
      "Olive: May\n",
      "Maroon: June\n",
      "Aqua: July\n",
      "Lime: August\n",
      "Teal: September\n",
      "Green: October\n",
      "Blue: November\n",
      "Black: December\n"
     ]
    },
    {
     "data": {
      "application/vnd.jupyter.widget-view+json": {
       "model_id": "b656b89fe57e4e3b8590f197fc002494"
      }
     },
     "metadata": {},
     "output_type": "display_data"
    }
   ],
   "source": [
    "color_list = ['Yellow','Silver','Red','Gray','Olive','Maroon','Aqua','Lime','Teal','Green','Blue','Black']\n",
    "\n",
    "fig = gmaps.figure()\n",
    "for idx, month_data in enumerate(mapdata):\n",
    "    print color_list[idx]+\": \"+ calendar.month_name[idx+1]\n",
    "    climate_layer = gmaps.symbol_layer(\n",
    "                    month_data, fill_color=color_list[idx], stroke_color=color_list[idx], scale=3)\n",
    "\n",
    "    fig.add_layer(climate_layer)\n",
    "\n",
    "fig"
   ]
  },
  {
   "cell_type": "code",
   "execution_count": 65,
   "metadata": {},
   "outputs": [
    {
     "name": "stdout",
     "output_type": "stream",
     "text": [
      "(50.5833, 47.25) Первопитерский, Pitersky District, Saratov Oblast, Volga Federal District, Russian Federation\n",
      "(49.5, 62.8333) Тармак, Жангельдинский район, Kostanay Region, Kazakhstan\n",
      "(48.25, 7.5833) D 705, Sundhouse, Sélestat-Erstein, Bas-Rhin, Great East, 67920, France\n",
      "(47.8333, 16.3333) Güterweg Weichselbühel, Heutalhof, Gemeinde Lichtenwörth, Bezirk Wiener Neustadt, Lower Austria, 2493, Austria\n",
      "(47.5833, 84.4167) Сарыбулак, Тарбагатайский район, East Kazakhstan Region, Kazakhstan\n",
      "(47.3333, 27.9167) Ungheni-Chișinău, Hristoforovca, raionul Ungheni, 3641, Moldova\n",
      "(47.3333, 36.5833) Т-08-03, Куйбишевська селищна рада, Більмацький район, Zaporizhia Oblast, Ukraine\n",
      "(47.25, 76.1667) Актогайский район, Karaganda Region, Kazakhstan\n",
      "(47.0, 26.9167) DN2, Traian, Neamț, 617398, Romania\n",
      "(46.8333, 16.4167) Baksaszer, Őriszentpéter (Baksaszer), Baksaszer, Őriszentpéter, Körmendi járás, Vas, Western Transdanubia, Transdanubia, 9941, Hungary\n",
      "(46.5833, 16.1667) 3, Prvomajska ulica, Veržej, Mura Statistical Region, 9241, Slovenia\n",
      "(46.3333, 4.25) La Raie, Amanzé, Charolles, Saône-et-Loire, Bourgogne-Franche-Comté, 71800, France\n",
      "(46.0, -104.0) Camp Crook Road, Bowman County, North Dakota, United States of America\n",
      "(45.9167, -85.25) Mackinac County, Michigan, United States of America\n",
      "(44.6667, -92.25) 370th Avenue, Ono, Pierce County, Wisconsin, 54750, United States of America\n",
      "(44.4167, -87.6667) Pine Grove Road, Stangelville, Kewaunee County, Wisconsin, 54217, United States of America\n",
      "(44.1667, -122.75) 16-1-26 Road, Lane County, Oregon, United States of America\n",
      "(44.0, -85.8333) West 1 Mile Road, Wolf Lake, Lake County, Michigan, 49304, United States of America\n",
      "(43.9167, -116.1667) Twilegar Lane, Boise County, Idaho, 83629, United States of America\n",
      "(43.8333, -84.5) Lyle Road, Gladwin County, Michigan, 48612, United States of America\n",
      "(43.8333, -84.25) Townline 16 Road, Mills Township, Midland County, Michigan, 48652, United States of America\n",
      "(43.75, 131.8333) Школьная улица, Linevichi, Уссурийский городской округ, Primorsky Krai, Far Eastern Federal District, 692508, Russian Federation\n",
      "(43.1667, 133.0833) 1-я Красноармейская улица, Партизанский городской округ, Primorsky Krai, Far Eastern Federal District, Russian Federation\n",
      "(42.25, 98.0) Ejin Banner, Alxa League, Inner Mongolia, China\n",
      "(42.0, -105.1667) Cooney Hills Road, Platte County, Wyoming, United States of America\n",
      "(41.75, -74.75) Swan Lake Road, Ferndale, Town of Liberty, Sullivan County, New York, 12734, United States of America\n",
      "(41.5, -79.1667) Francis Road, Blue Jay, Forest County, Pennsylvania, United States of America\n",
      "(41.4167, 74.75) Ugut, Naryn Region, Kyrgyzstan\n",
      "(38.5, 107.9167) Otog Front Banner, Ordos City, Inner Mongolia, China\n",
      "(36.6667, 48.8333) امام, بخش مرکزی, Zanjan County, Zanjan Province, Iran\n",
      "(35.25, 64.1667) R17, Jawand, Badghis, Afghanistan\n",
      "(32.6667, 49.5) لبدعلیا, بخش بازفت, Kuhrang County, Chaharmahal and Bakhtiari Province, Iran\n",
      "(9.0, 39.0833) Addis Ababa, Ethiopia\n",
      "(-0.25, 36.1667) C69, Nakuru, Central, Kenya\n",
      "(-19.1667, -65.0833) RN6: Sucre-Tarabuco, Municipio Yamparaez, Provincia Yamparaez, CHQ, Bolivia\n",
      "(-27.0, -51.4167) Rua Caçador, Treze Tílias, Microrregião de Joaçaba, Western Santa Catarina Mesoregion, Santa Catarina, South Region, Brazil\n",
      "(-27.1667, -49.3333) Apiúna, Microrregião de Blumenau, Mesorregião do Vale do Itajaí, Santa Catarina, South Region, Brazil\n",
      "(-27.75, 15.75) Restricted, ǁKaras Region, Namibia\n",
      "(-28.8333, 26.0833) Mangaung Ward 44, Bloemfontein, Mangaung Metropolitan Municipality, Free State, RSA\n",
      "(-29.6667, -64.0) Ruta Provincial 18, Sobremonte, Córdoba, Argentina\n",
      "(-30.5, 122.8333) Western Australia, Australia\n",
      "(-31.3333, -55.5) Rivera, 40000, Uruguay\n",
      "(-31.3333, 131.0833) Nullarbor, South Australia, 5690, Australia\n",
      "(-31.75, -68.25) Divisoria, Caucete, SJ, Argentina\n",
      "(-32.0, 136.0) Moonaree, South Australia, 5717, Australia\n",
      "(-32.0833, 136.75) South Australia, Australia\n",
      "(-32.8333, 142.5) Menindee, Central Darling Shire Council, New South Wales, 2879, Australia\n",
      "(-33.0833, 142.1667) Pooncarie, Wentworth Shire Council, New South Wales, 2648, Australia\n"
     ]
    }
   ],
   "source": [
    "geolocator = Nominatim()\n",
    "for place in mapdata[8]:\n",
    "    location = geolocator.reverse(place, timeout=100, language='en')\n",
    "    print place, location.address"
   ]
  },
  {
   "cell_type": "code",
   "execution_count": null,
   "metadata": {},
   "outputs": [],
   "source": [
    "#from osgeo import gdal\n",
    "#import matplotlib.pyplot as plt\n",
    "#import numpy as np\n",
    "#from mpl_toolkits.basemap import Basemap\n",
    "#\n",
    "## Plotting 2070 projected August (8) precip from worldclim\n",
    "#gdata = gdal.Open(\"data/tavg/wc2.0_10m_tavg_01.tif\")\n",
    "#geo = gdata.GetGeoTransform()\n",
    "#data = gdata.ReadAsArray()\n",
    "#\n",
    "#xres = geo[1]\n",
    "#yres = geo[5]\n",
    "#\n",
    "## A good LCC projection for USA plots\n",
    "#m = Basemap(llcrnrlon=-119,llcrnrlat=22,urcrnrlon=-64,urcrnrlat=49,\n",
    "#            projection='lcc',lat_1=33,lon_0=-95)\n",
    "#\n",
    "#xmin = geo[0] + xres * 0.5\n",
    "#xmax = geo[0] + (xres * gdata.RasterXSize) - xres * 0.5\n",
    "#ymin = geo[3] + (yres * gdata.RasterYSize) + yres * 0.5\n",
    "#ymax = geo[3] - yres * 0.5\n",
    "#\n",
    "#x,y = np.mgrid[xmin:xmax+xres:xres, ymax+yres:ymin:yres]\n",
    "#x,y = m(x,y)\n",
    "#\n",
    "#cmap = plt.cm.gist_rainbow\n",
    "#cmap.set_under ('1.0')\n",
    "#cmap.set_bad('0.8')\n",
    "#\n",
    "#im = m.pcolormesh(x,y, data.T, cmap=cmap, vmin=45, vmax=0)\n",
    "#\n",
    "#cb = plt.colorbar( orientation='vertical', fraction=0.10, shrink=0.7)\n",
    "#plt.title('Tavg')\n",
    "#plt.show()"
   ]
  },
  {
   "cell_type": "code",
   "execution_count": null,
   "metadata": {
    "collapsed": true
   },
   "outputs": [],
   "source": []
  }
 ],
 "metadata": {
  "kernelspec": {
   "display_name": "Python 2",
   "language": "python",
   "name": "python2"
  },
  "language_info": {
   "codemirror_mode": {
    "name": "ipython",
    "version": 2
   },
   "file_extension": ".py",
   "mimetype": "text/x-python",
   "name": "python",
   "nbconvert_exporter": "python",
   "pygments_lexer": "ipython2",
   "version": "2.7.13"
  }
 },
 "nbformat": 4,
 "nbformat_minor": 2
}
