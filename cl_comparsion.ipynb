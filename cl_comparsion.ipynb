{
 "cells": [
  {
   "cell_type": "code",
   "execution_count": 191,
   "metadata": {
    "collapsed": true
   },
   "outputs": [],
   "source": [
    "#!/usr/bin/env python\n",
    "# -*- coding: utf-8 -*-\n",
    "from IPython.core.display import display, HTML #HTML output for ipython notebook\n",
    "from osgeo import gdal\n",
    "from geopy.geocoders import Nominatim\n",
    "from collections import OrderedDict\n",
    "from prettytable import PrettyTable\n",
    "from prettytable import from_html\n",
    "import calendar\n",
    "import os\n",
    "import numpy as np\n",
    "from numpy import ma\n",
    "from collections import Counter"
   ]
  },
  {
   "cell_type": "code",
   "execution_count": 192,
   "metadata": {},
   "outputs": [],
   "source": [
    "path = 'data'\n",
    "city = 'Sankt Petersburg'\n",
    "bit_value = 4 # bit number for values\n",
    "g = Nominatim().geocode(city, timeout=5)\n",
    "position = (g.longitude, g.latitude)"
   ]
  },
  {
   "cell_type": "code",
   "execution_count": 210,
   "metadata": {},
   "outputs": [],
   "source": [
    "# Extract raster data value at a point :\n",
    "\n",
    "def get_value_at_point(rasterfile, pos):\n",
    "    gdata = gdal.Open(rasterfile)\n",
    "    gt = gdata.GetGeoTransform()\n",
    "    band = gdata.GetRasterBand(1)\n",
    "    nodata = band.GetNoDataValue()     \n",
    "    data = gdata.ReadAsArray().astype(np.float)\n",
    "    gdata = None\n",
    "    masked_data = ma.masked_values(data, nodata, copy=False) # mask no value data\n",
    "    masked_data.fill_value = nodata\n",
    "    d_values = np.around(masked_data, decimals=bit_value) # rounding values\n",
    "    x = int((pos[0] - gt[0])/gt[1])\n",
    "    y = int((pos[1] - gt[3])/gt[5])    \n",
    "    x_value = round(d_values[y, x], bit_value) # desired quantity\n",
    "    \n",
    "    # search coordinates which corresponded by overlapped value:\n",
    "    search_pix = zip(*np.where(d_values == x_value)) # search pixel cootdinates\n",
    "    overlapped = map(lambda pix :(round(gt[3] + pix[1] * gt[4] + pix[0] * gt[5], 4), # lat\n",
    "                  round(gt[0] + pix[1] * gt[1] + pix[0] * gt[2], 4)), search_pix) # # long\n",
    "    \n",
    "    \n",
    "    \n",
    "    return x_value, overlapped\n"
   ]
  },
  {
   "cell_type": "code",
   "execution_count": 204,
   "metadata": {
    "collapsed": true
   },
   "outputs": [],
   "source": [
    "def pixtomap(pix):\n",
    "    coordinate = (round(gt[3] + pix[1] * gt[4] + pix[0] * gt[5], 4),\n",
    "                  round(gt[0] + pix[1] * gt[1] + pix[0] * gt[2], 4))\n",
    "    return coordinate"
   ]
  },
  {
   "cell_type": "code",
   "execution_count": 205,
   "metadata": {
    "collapsed": true
   },
   "outputs": [],
   "source": [
    "def ext_data():\n",
    "    result_data = []\n",
    "    val_dataset = sorted(os.listdir(path))\n",
    "    for val in val_dataset: # list of datasets by climate values\n",
    "        res = []\n",
    "        for m in [x for x in range(1,13)]: #get data by month(from datasets like wc2.0_5m_tmax_01.tif) \n",
    "            result = get_value_at_point('data/%s/wc2.0_5m_%s_%02d.tif' % (val, val, m), position)\n",
    "            res.append(result) \n",
    "\n",
    "        result_data.append((val, res))\n",
    "    return result_data, val_dataset"
   ]
  },
  {
   "cell_type": "code",
   "execution_count": 305,
   "metadata": {},
   "outputs": [],
   "source": [
    "def output_table(extdata):\n",
    "    mgen_names = [calendar.month_name[x] for x in range(1,13)]\n",
    "    table = PrettyTable()\n",
    "    table.add_column(\"Month\", mgen_names)\n",
    "    for k in extdata[0]:\n",
    "        print k[0]\n",
    "        for j in k:\n",
    "            print j\n",
    "           # table.add_column(k[0], j)\n",
    "    print(city)\n",
    "    #print(table)\n",
    "    #HTML output for ipython notebook:\n",
    "    #htmltable = table.get_html_string()\n",
    "    #display(HTML(htmltable))    \n"
   ]
  },
  {
   "cell_type": "code",
   "execution_count": 292,
   "metadata": {
    "collapsed": true
   },
   "outputs": [],
   "source": [
    "extdata = ext_data() # extract data"
   ]
  },
  {
   "cell_type": "code",
   "execution_count": 306,
   "metadata": {},
   "outputs": [
    {
     "name": "stdout",
     "output_type": "stream",
     "text": [
      "tavg\n",
      "tavg\n",
      "[(-6.355, [(63.25, 21.9167), (62.5833, 22.3333), (61.0833, 14.5833), (60.0, 30.25), (49.4167, 28.9167), (49.25, 39.8333), (49.0, 39.0833), (48.9167, 39.3333), (47.8333, -87.25), (47.6667, 47.0833), (45.4167, 54.1667), (45.1667, 54.6667), (44.8333, -65.25), (44.75, -106.75), (43.0833, -75.3333), (43.0, -73.6667), (42.5, -72.0), (42.3333, 76.0), (36.75, 107.5833), (36.75, 108.8333), (33.6667, 104.9167), (-70.9167, 10.75), (-71.1667, 8.9167), (-71.1667, 19.6667), (-73.25, -13.9167), (-73.6667, -80.4167), (-74.0, -121.5833), (-74.8333, -122.8333), (-74.9167, -133.5833), (-76.0, -73.8333), (-77.8333, -76.9167), (-77.9167, -157.1667), (-78.9167, -152.5833), (-80.6667, -32.6667), (-81.3333, -40.0), (-82.4167, -65.75), (-83.6667, -161.75), (-84.6667, -157.0), (-84.75, -155.0833), (-85.25, -159.6667)]), (-6.248, [(63.75, -41.0833), (60.0, -160.5833), (60.0, 30.25), (58.3333, 25.25), (58.3333, 25.5833), (56.0833, 29.3333), (53.9167, 31.5833), (53.6667, -123.3333), (53.1667, -119.6667), (53.0, -123.4167), (49.0, -53.75), (47.5, 46.6667), (46.0, -101.75), (44.8333, -80.25), (44.1667, -70.75), (44.0833, -91.5833), (44.0833, 63.25), (43.8333, -88.25), (43.4167, -90.0833), (42.1667, 100.25), (42.1667, 105.5833), (41.75, -110.1667), (41.25, 107.5), (40.1667, 96.8333), (39.5, 108.25), (38.9167, -107.4167), (38.9167, 127.0833), (33.9167, 69.5), (31.9167, 101.5833), (-65.9167, 53.9167), (-67.4167, 59.6667)]), (-1.511, [(60.0, 30.25), (58.5, 26.0), (58.3333, 30.6667), (57.5, 24.4167), (57.4167, 30.9167), (52.25, 35.4167), (50.25, 42.4167), (49.75, -120.1667), (49.3333, 42.75), (48.5, 49.6667), (47.75, 51.75), (47.5833, -86.8333), (47.4167, -86.25), (45.0833, -88.5), (45.0833, 78.3333), (45.0, -68.9167), (44.9167, 96.6667), (44.6667, 121.25), (44.5833, -89.5), (44.5833, 59.25), (44.25, -77.6667), (42.75, 124.5833), (37.75, 46.5833), (36.1667, 51.75), (33.4167, 102.75), (29.0833, 88.9167)]), (4.308, [(60.0, 30.25), (59.5833, 17.25), (59.0833, 16.8333), (58.0833, 16.1667), (57.5833, 39.0), (57.5, 36.3333), (57.5, 36.6667), (57.4167, 36.8333), (57.3333, 38.0), (57.25, 38.5833), (57.0833, 50.75), (55.5, 61.25), (54.9167, 61.0833), (53.25, 91.25), (52.6667, 67.0833), (52.5833, -112.1667), (52.5, 71.0), (51.4167, -108.25), (51.25, -107.5833), (51.0, -113.5833), (50.4167, -126.5833), (49.5, 74.8333), (49.1667, -109.1667), (49.1667, -97.5833), (48.75, -100.3333), (48.1667, 132.0), (47.75, 15.25), (46.1667, 11.6667), (45.5833, 134.0), (45.0833, -116.4167), (44.75, -82.8333), (44.75, 108.1667), (44.75, 112.0), (44.4167, -80.75), (42.9167, 118.0833), (38.5, 91.75), (31.5, 100.6667)]), (10.825, [(60.3333, 30.5833), (60.0, 30.25), (59.1667, 10.75), (59.0, 32.75), (58.5833, 39.9167), (58.5833, 49.5), (58.3333, 33.4167), (58.3333, 43.0), (58.25, 44.1667), (58.1667, 46.9167), (56.9167, 66.0833), (55.8333, 75.1667), (55.5, 78.1667), (55.4167, 78.3333), (52.6667, -2.0), (52.3333, -2.25), (51.6667, -108.5833), (51.4167, 129.3333), (51.25, -4.25), (51.0833, 127.0833), (50.9167, 8.25), (50.8333, -113.25), (50.8333, -102.0833), (50.25, -103.1667), (50.0, -101.25), (49.6667, 124.1667), (49.4167, 134.5), (49.3333, 22.5), (49.0, 126.6667), (48.9167, 114.5), (48.8333, 74.6667), (48.8333, 76.0833), (48.5, 136.5833), (48.0833, -92.8333), (47.6667, 81.0833), (47.5, 112.3333), (47.4167, 9.8333), (46.25, -74.75), (45.9167, 114.75), (45.3333, -68.9167), (45.0833, -118.0), (43.75, -107.3333), (43.25, -123.0), (43.0833, 18.6667), (43.0, 131.4167), (41.5833, 127.5), (40.6667, 32.0833), (40.4167, -121.75), (36.3333, 52.0), (-13.75, -75.3333), (-29.8333, 25.8333), (-36.5833, -66.3333), (-36.6667, -65.0), (-36.9167, -63.5), (-38.0, -66.0), (-38.1667, -64.1667), (-38.3333, -59.5), (-42.1667, -64.25)]), (15.753, [(60.0, 30.25), (59.5833, 61.0), (59.3333, 64.1667), (59.3333, 65.6667), (59.1667, 63.0), (58.75, 57.0833), (58.6667, 99.1667), (58.4167, 99.5), (58.25, 43.5833), (58.1667, 43.5833), (58.0833, 42.6667), (57.8333, 83.75), (57.75, 29.1667), (57.5, 30.75), (57.1667, 83.4167), (57.0833, 38.5833), (56.9167, 86.0833), (56.75, 61.1667), (56.5, 81.4167), (56.4167, 36.4167), (56.4167, 79.0), (56.3333, 58.9167), (56.0833, 32.25), (55.75, 57.5), (55.5833, 58.8333), (55.5833, 82.25), (55.5, 30.8333), (55.4167, 29.0), (54.5, 30.0833), (54.25, 84.25), (53.5, 24.1667), (53.5, 92.75), (53.5, 122.25), (53.0, 26.6667), (52.8333, -106.5833), (52.75, 26.1667), (52.4167, 8.6667), (52.25, 7.4167), (51.9167, 11.3333), (51.8333, 115.3333), (51.5, -98.6667), (51.25, 5.3333), (51.25, 136.5833), (51.0833, 20.25), (50.75, 5.0), (50.3333, -112.5), (50.1667, -102.5833), (49.4167, 11.25), (49.25, -93.25), (49.1667, 14.0833), (48.75, -92.5), (48.75, 13.4167), (48.5833, -92.8333), (47.3333, 103.5833), (46.5833, -75.5), (46.1667, 13.8333), (44.9167, 119.0833), (43.3333, -117.5833), (43.1667, -115.25), (43.0, -9.0), (42.1667, 96.4167), (41.75, -2.3333), (41.6667, 41.75), (41.5833, 127.5), (41.5, -105.0833), (39.75, 140.75), (39.3333, -115.6667), (37.5833, 46.3333), (27.0, 100.9167), (24.75, -105.9167), (-11.25, 25.0), (-12.5, 25.1667), (-12.8333, 17.9167), (-13.1667, 21.5833), (-13.4167, 25.0), (-15.0833, 15.0833), (-15.0833, 17.0), (-15.4167, 20.9167), (-15.5, 25.8333), (-16.0, 19.5), (-16.0833, -72.75), (-16.25, 19.6667), (-16.25, 27.5833), (-19.9167, 20.0), (-21.5, 21.8333), (-21.5, 135.1667), (-22.1667, 22.5), (-22.5, 16.0), (-22.5833, 146.25), (-23.3333, 24.1667), (-23.3333, 30.1667), (-24.0, 128.1667), (-24.0833, 138.5), (-24.3333, 118.5833), (-24.5, 150.0), (-25.8333, 31.3333), (-26.9167, -59.5), (-28.75, -49.4167)]), (17.969, [(63.8333, 122.0833), (62.8333, 134.0), (62.75, 135.0), (62.3333, 74.1667), (61.9167, 130.5), (60.9167, 67.6667), (60.75, 131.5833), (60.4167, 85.75), (60.0833, 99.25), (60.0, 30.25), (60.0, 132.75), (59.8333, 65.5), (59.6667, 77.8333), (59.5833, 60.75), (59.4167, 82.9167), (58.8333, 75.9167), (58.6667, 49.0833), (58.5833, 70.6667), (58.1667, 81.0833), (58.0, 44.6667), (57.9167, 42.5), (57.9167, 97.9167), (57.8333, 88.3333), (57.75, 71.5), (57.4167, 92.75), (57.25, 52.5833), (57.1667, 102.25), (57.0833, 72.5833), (56.8333, 88.1667), (56.75, 101.75), (56.25, 102.5833), (56.1667, 85.3333), (55.8333, 57.9167), (55.75, 58.4167), (54.0833, 103.5), (53.9167, 15.5833), (53.5833, 21.9167), (53.1667, 123.6667), (52.9167, 33.75), (52.75, 29.1667), (52.75, 87.3333), (52.5833, 22.25), (52.5833, 34.8333), (52.3333, -96.0), (52.25, 21.75), (52.1667, -95.25), (51.6667, -93.1667), (51.5833, 6.5), (51.1667, -110.75), (50.4167, -112.4167), (48.5833, -117.8333), (47.8333, 111.5833), (47.1667, -68.0), (47.1667, 120.8333), (46.9167, -78.4167), (46.75, -69.4167), (46.5833, -70.9167), (45.6667, -69.75), (45.3333, -62.25), (45.0833, -82.5833), (44.5833, 10.0), (43.6667, 2.5), (42.9167, -119.9167), (42.25, -114.4167), (41.8333, 23.5833), (41.3333, -105.75), (40.1667, 36.0833), (39.5833, 39.9167), (39.0, -116.3333), (35.9167, 137.3333), (33.6667, 63.0), (33.6667, 107.0833), (25.9167, 102.5), (17.6667, -99.9167), (9.75, 38.25), (-1.25, 37.0), (-8.75, 32.0), (-10.75, 28.1667), (-11.1667, 15.0833), (-11.3333, 30.4167), (-12.0833, 17.4167), (-15.4167, 36.25), (-16.0833, 31.5833), (-17.25, -43.6667), (-18.8333, -44.3333), (-19.75, 24.25), (-20.0833, 147.3333), (-20.3333, 140.5), (-20.6667, 47.9167), (-22.0, 122.9167), (-23.1667, 32.0), (-24.5, 32.0833)]), (16.232, [(60.0, 30.25), (59.4167, 18.0), (57.4167, 61.8333), (56.9167, 44.5833), (56.75, 44.1667), (55.9167, 37.4167), (55.6667, 66.8333), (55.5833, 50.8333), (55.5, 62.4167), (55.0833, 82.5), (55.0, 37.5), (54.9167, 56.6667), (54.4167, -102.0), (54.1667, 24.3333), (54.0833, 56.5), (53.5833, -109.75), (53.5, -109.9167), (53.4167, 26.75), (53.0833, -96.3333), (52.5833, -93.5), (52.5833, 57.9167), (52.1667, 57.8333), (52.0833, 85.75), (51.6667, -102.9167), (51.5, -3.3333), (51.25, 7.25), (51.25, 9.1667), (51.25, 125.5), (51.0, -91.8333), (50.5833, 15.75), (50.3333, -90.0), (49.9167, 13.1667), (48.8333, -88.25), (48.0833, -79.9167), (46.8333, 105.5833), (45.5, 114.9167), (42.9167, -5.9167), (41.5833, 47.4167), (41.0833, -105.75), (40.9167, 43.4167), (39.75, 41.3333), (37.25, 72.0), (36.1667, 97.6667), (36.0, -118.4167), (34.3333, 68.0833), (32.4167, 76.1667), (-17.9167, 32.25), (-21.0, 17.0833), (-22.1667, 134.25), (-23.1667, 137.3333), (-23.4167, 146.6667), (-23.5, 21.4167), (-23.5, 146.6667), (-24.6667, 139.1667), (-24.75, -64.4167), (-24.9167, 143.5), (-25.3333, 141.6667), (-28.1667, -62.0833), (-28.25, -61.8333)]), (10.913, [(60.0, 30.25), (59.6667, 17.0833), (58.75, 25.4167), (58.5, 25.9167), (57.0, 26.75), (56.6667, 14.5833), (56.0, -133.0833), (55.8333, 48.8333), (55.5833, 44.5833), (55.1667, 29.9167), (55.0833, 44.5), (55.0, 67.1667), (54.9167, 26.5), (54.8333, 68.4167), (54.6667, 27.0), (54.6667, 30.5), (54.6667, 30.5833), (54.6667, 60.9167), (54.5, 66.9167), (53.4167, 80.0833), (53.3333, 59.1667), (53.3333, 84.9167), (52.9167, 139.6667), (52.8333, -110.0), (52.6667, -100.4167), (52.5, -105.5833), (52.0, -120.0833), (50.25, 130.1667), (49.8333, 76.8333), (49.3333, 127.4167), (49.25, -62.25), (48.6667, -79.0), (48.5833, -64.5833), (47.75, -115.1667), (47.75, -73.1667), (47.5833, -67.25), (47.3333, 113.5), (47.1667, -73.75), (45.5833, 106.25), (45.5833, 136.5), (45.25, 115.6667), (44.75, -121.75), (43.0833, -111.1667), (40.5833, 41.75), (39.0, 100.75), (39.0, 111.9167), (29.75, 101.0), (-20.0, -69.3333), (-32.3333, 26.25), (-33.5833, 23.25), (-35.3333, 147.75), (-35.5833, 146.9167), (-36.6667, 144.3333), (-36.9167, -58.9167), (-37.5833, 141.5), (-37.8333, -68.3333), (-39.8333, 175.0833), (-39.9167, -62.5), (-40.3333, -62.8333)]), (5.465, [(60.0833, 15.5833), (60.0833, 17.0833), (60.0, 30.25), (59.25, 27.25), (57.75, 31.4167), (57.1667, 29.3333), (56.75, 25.1667), (53.25, 33.75), (50.9167, 52.6667), (50.25, -97.25), (49.9167, -104.0), (49.4167, -109.5), (48.8333, -88.0), (48.75, -56.4167), (48.1667, -57.5), (47.8333, -123.25), (47.75, -91.0), (47.6667, 68.1667), (47.4167, 66.6667), (47.3333, -78.6667), (47.0833, -80.8333), (47.0833, -72.5833), (45.4167, 130.8333), (45.0, 127.75), (43.9167, 127.3333), (41.5, -122.25), (38.3333, -119.5833), (34.0833, 70.0833), (-14.1667, -70.0), (-45.25, 168.8333)]), (-0.2, [(69.0, 17.0833), (68.5, 15.4167), (66.5833, -16.4167), (66.5833, -16.1667), (66.5833, -16.0833), (61.3333, 30.6667), (61.3333, 30.75), (61.25, 30.8333), (61.1667, 30.9167), (61.0833, 30.9167), (61.0, 16.6667), (61.0, 30.9167), (61.0, 31.0), (60.9167, 31.0), (60.9167, 31.0833), (60.8333, 31.0833), (60.75, 31.1667), (60.6667, 31.1667), (60.5833, 31.1667), (60.5, 25.1667), (60.5, 31.1667), (60.5, 31.25), (60.4167, 31.1667), (60.4167, 31.25), (60.3333, 31.25), (60.25, 31.1667), (60.25, 31.25), (60.1667, 31.1667), (60.0833, 29.9167), (60.0, -148.4167), (60.0, 29.9167), (60.0, 30.0833), (60.0, 30.25), (60.0, 30.3333), (59.9167, -43.5), (57.0, 28.6667), (56.9167, 28.75), (53.0, 31.75), (53.0, 31.8333), (52.6667, 32.0833), (52.5833, 32.3333), (52.5833, 32.8333), (52.5833, 33.0), (52.5, 32.5833), (52.0833, -55.75), (51.3333, -57.9167), (51.0, 37.75), (51.0, 156.8333), (50.8333, 156.0833), (50.8333, 156.1667), (50.75, 35.0833), (50.75, 37.75), (50.6667, -121.9167), (50.6667, 35.3333), (50.6667, 156.25), (50.3333, 40.1667), (50.1667, -56.5833), (49.9167, -63.5), (49.75, 154.3333), (49.5, 44.1667), (49.5, 46.5833), (49.4167, 44.1667), (49.4167, 44.25), (49.4167, 44.3333), (49.4167, 44.4167), (49.4167, 46.5833), (49.4167, 46.6667), (49.4167, 46.9167), (49.4167, 154.5833), (49.3333, 44.5833), (49.3333, 47.0833), (49.3333, 47.1667), (49.25, 47.5), (49.1667, 47.75), (49.1667, 47.8333), (49.0833, 48.0), (49.0833, 48.0833), (49.0833, 48.1667), (49.0, 48.25), (49.0, 48.3333), (49.0, 48.4167), (49.0, 153.9167), (48.9167, 48.6667), (48.9167, 48.75), (48.9167, 48.8333), (48.8333, 48.9167), (48.8333, 49.0), (48.8333, 49.0833), (48.75, 49.1667), (48.75, 49.25), (48.75, 49.3333), (48.75, 49.4167), (48.75, 49.5), (48.6667, -117.0833), (48.6667, 49.5833), (48.6667, 49.6667), (48.6667, 49.75), (48.6667, 49.8333), (48.6667, 49.9167), (48.6667, 50.0), (48.6667, 50.0833), (48.5833, 50.0), (48.5833, 50.0833), (48.5833, 50.1667), (48.5833, 50.25), (48.5833, 50.3333), (48.5, 50.3333), (48.5, 50.4167), (48.5, 50.5), (48.5, 50.5833), (48.5, 50.6667), (48.5, 50.75), (48.4167, 50.9167), (48.4167, 51.0), (48.4167, 51.0833), (48.3333, 51.1667), (48.3333, 51.25), (48.3333, 51.3333), (48.3333, 51.4167), (48.3333, 51.5), (48.25, 51.3333), (48.25, 51.4167), (48.25, 51.5), (48.25, 51.5833), (48.25, 51.6667), (48.25, 51.75), (48.1667, -112.6667), (48.1667, 51.75), (48.1667, 51.8333), (48.1667, 51.9167), (48.1667, 52.0), (48.1667, 52.0833), (48.1667, 52.1667), (48.1667, 52.3333), (48.1667, 52.4167), (48.1667, 52.5), (48.1667, 52.5833), (47.9167, -69.8333), (47.3333, 55.3333), (47.3333, 143.0), (47.25, 56.0), (47.1667, -112.3333), (47.0833, -110.0), (47.0, 57.1667), (46.75, 58.5), (46.1667, -109.75), (46.0, -109.6667), (46.0, -74.75), (45.6667, -105.75), (45.5833, 63.5), (45.5, 63.4167), (45.5, 65.3333), (45.4167, -109.5), (45.4167, -103.75), (45.25, 6.5833), (44.5833, -94.25), (44.5833, -94.1667), (44.5833, -93.75), (44.5, -94.5), (44.5, -94.4167), (44.5, -94.3333), (44.5, -93.6667), (44.4167, -94.8333), (44.3333, -95.0833), (44.3333, -95.0), (44.25, -95.4167), (44.25, -95.25), (44.1667, -98.1667), (43.9167, -95.0), (43.3333, -108.25), (43.3333, 82.25), (42.9167, 132.75), (42.3333, 46.3333), (42.0, 122.5833), (41.9167, 93.1667), (41.9167, 120.9167), (41.75, 88.9167), (41.6667, 89.9167), (40.9167, 106.8333), (40.6667, 95.5833), (40.1667, 98.9167), (40.1667, 99.1667), (39.5833, 99.5), (38.4167, 111.6667), (36.1667, 100.6667), (35.75, 73.4167), (34.0833, 63.8333), (-58.3333, -26.5), (-62.4167, -60.4167), (-62.4167, -60.3333), (-62.5, -61.1667)]), (-4.149, [(65.6667, -16.4167), (63.6667, 11.6667), (61.75, 22.0833), (60.8333, 24.1667), (60.6667, 15.5833), (60.0, 30.25), (58.3333, -134.1667), (56.1667, 28.5), (54.75, 28.9167), (54.4167, 26.1667), (54.0833, 26.75), (51.6667, 32.9167), (49.8333, 39.5833), (49.3333, -57.0), (49.1667, 41.1667), (48.5833, -87.0), (47.3333, 49.5), (47.25, -115.0833), (46.6667, 53.0), (45.75, -84.8333), (45.75, -64.1667), (44.6667, -85.0), (43.75, -73.8333), (43.6667, -106.5833), (43.5, -102.1667), (43.1667, -101.8333), (42.9167, -102.25), (41.9167, -115.3333), (41.75, -96.5833), (41.6667, -98.75), (39.4167, 127.0), (37.5, 79.75), (37.0, 83.1667), (36.5833, 108.5833), (27.75, 96.8333), (-66.25, 113.9167), (-66.9167, 123.3333), (-67.5833, 46.9167), (-70.75, 23.6667), (-71.0833, 25.5833), (-71.1667, 2.9167)])]\n",
      "Sankt Petersburg\n"
     ]
    }
   ],
   "source": [
    "output = output_table(extdata) # print table "
   ]
  },
  {
   "cell_type": "code",
   "execution_count": 69,
   "metadata": {
    "collapsed": true
   },
   "outputs": [],
   "source": [
    "def check_func(rasterfile, pos):\n",
    "    gdata = gdal.Open(rasterfile)\n",
    "    gt = gdata.GetGeoTransform()\n",
    "    band = gdata.GetRasterBand(1)\n",
    "    nodata = band.GetNoDataValue()     \n",
    "    data = gdata.ReadAsArray().astype(np.float)\n",
    "    gdata = None\n",
    "    masked_data = ma.masked_values(data, nodata, copy=False) # mask no value data\n",
    "    masked_data.fill_value = nodata\n",
    "    d_values = np.around(masked_data, decimals=bit_value) # rounding values\n",
    "    x = int((pos[0] - gt[0])/gt[1])\n",
    "    y = int((pos[1] - gt[3])/gt[5]) \n",
    "    x_value = round(d_values[y, x], bit_value) \n",
    "    \n",
    "    return rasterfile, (pos[1],pos[0]), x_value"
   ]
  },
  {
   "cell_type": "code",
   "execution_count": 198,
   "metadata": {
    "collapsed": true
   },
   "outputs": [],
   "source": [
    "def check_ext_data(extdata):\n",
    "    result_data = []\n",
    "\n",
    "    for i in extdata[0]:\n",
    "        for j in i[1][0][1]: # [0] mean January\n",
    "           \n",
    "            result = check_func('data/tavg/wc2.0_5m_tavg_01.tif', (j[1], j[0]) )\n",
    "            print result"
   ]
  },
  {
   "cell_type": "code",
   "execution_count": 199,
   "metadata": {},
   "outputs": [
    {
     "name": "stdout",
     "output_type": "stream",
     "text": [
      "('data/tavg/wc2.0_5m_tavg_01.tif', (63.25, 21.9167), -6.355)\n",
      "('data/tavg/wc2.0_5m_tavg_01.tif', (62.5833, 22.3333), -6.297)\n",
      "('data/tavg/wc2.0_5m_tavg_01.tif', (61.0833, 14.5833), -6.216)\n",
      "('data/tavg/wc2.0_5m_tavg_01.tif', (60.0, 30.25), -6.355)\n",
      "('data/tavg/wc2.0_5m_tavg_01.tif', (49.4167, 28.9167), -6.282)\n",
      "('data/tavg/wc2.0_5m_tavg_01.tif', (49.25, 39.8333), -6.376)\n",
      "('data/tavg/wc2.0_5m_tavg_01.tif', (49.0, 39.0833), -6.269)\n",
      "('data/tavg/wc2.0_5m_tavg_01.tif', (48.9167, 39.3333), -6.484)\n",
      "('data/tavg/wc2.0_5m_tavg_01.tif', (47.8333, -87.25), -6.355)\n",
      "('data/tavg/wc2.0_5m_tavg_01.tif', (47.6667, 47.0833), -6.456)\n",
      "('data/tavg/wc2.0_5m_tavg_01.tif', (45.4167, 54.1667), -6.503)\n",
      "('data/tavg/wc2.0_5m_tavg_01.tif', (45.1667, 54.6667), -6.281)\n",
      "('data/tavg/wc2.0_5m_tavg_01.tif', (44.8333, -65.25), -6.355)\n",
      "('data/tavg/wc2.0_5m_tavg_01.tif', (44.75, -106.75), -6.355)\n",
      "('data/tavg/wc2.0_5m_tavg_01.tif', (43.0833, -75.3333), -6.355)\n",
      "('data/tavg/wc2.0_5m_tavg_01.tif', (43.0, -73.6667), -6.404)\n",
      "('data/tavg/wc2.0_5m_tavg_01.tif', (42.5, -72.0), -6.355)\n",
      "('data/tavg/wc2.0_5m_tavg_01.tif', (42.3333, 76.0), -6.355)\n",
      "('data/tavg/wc2.0_5m_tavg_01.tif', (36.75, 107.5833), -6.377)\n",
      "('data/tavg/wc2.0_5m_tavg_01.tif', (36.75, 108.8333), -6.288)\n",
      "('data/tavg/wc2.0_5m_tavg_01.tif', (33.6667, 104.9167), -5.442)\n",
      "('data/tavg/wc2.0_5m_tavg_01.tif', (-70.9167, 10.75), -6.355)\n",
      "('data/tavg/wc2.0_5m_tavg_01.tif', (-71.1667, 8.9167), -6.355)\n",
      "('data/tavg/wc2.0_5m_tavg_01.tif', (-71.1667, 19.6667), -6.355)\n",
      "('data/tavg/wc2.0_5m_tavg_01.tif', (-73.25, -13.9167), -6.124)\n",
      "('data/tavg/wc2.0_5m_tavg_01.tif', (-73.6667, -80.4167), -5.862)\n",
      "('data/tavg/wc2.0_5m_tavg_01.tif', (-74.0, -121.5833), -6.355)\n",
      "('data/tavg/wc2.0_5m_tavg_01.tif', (-74.8333, -122.8333), -5.2221)\n",
      "('data/tavg/wc2.0_5m_tavg_01.tif', (-74.9167, -133.5833), -6.355)\n",
      "('data/tavg/wc2.0_5m_tavg_01.tif', (-76.0, -73.8333), -6.355)\n",
      "('data/tavg/wc2.0_5m_tavg_01.tif', (-77.8333, -76.9167), -7.029)\n",
      "('data/tavg/wc2.0_5m_tavg_01.tif', (-77.9167, -157.1667), -6.135)\n",
      "('data/tavg/wc2.0_5m_tavg_01.tif', (-78.9167, -152.5833), -6.355)\n",
      "('data/tavg/wc2.0_5m_tavg_01.tif', (-80.6667, -32.6667), -6.255)\n",
      "('data/tavg/wc2.0_5m_tavg_01.tif', (-81.3333, -40.0), -5.997)\n",
      "('data/tavg/wc2.0_5m_tavg_01.tif', (-82.4167, -65.75), -6.355)\n",
      "('data/tavg/wc2.0_5m_tavg_01.tif', (-83.6667, -161.75), -6.355)\n",
      "('data/tavg/wc2.0_5m_tavg_01.tif', (-84.6667, -157.0), -6.355)\n",
      "('data/tavg/wc2.0_5m_tavg_01.tif', (-84.75, -155.0833), -6.355)\n",
      "('data/tavg/wc2.0_5m_tavg_01.tif', (-85.25, -159.6667), -6.371)\n"
     ]
    }
   ],
   "source": [
    "check_ext_data(extdata) # check for  "
   ]
  },
  {
   "cell_type": "code",
   "execution_count": 41,
   "metadata": {
    "collapsed": true
   },
   "outputs": [],
   "source": [
    "#for r in comparsion_climate(output):\n",
    "#    if r != None:\n",
    "#        print r[0].upper() # name of value\n",
    "#        print \"-\"*74\n",
    "#        for c,v,m in r[1]: \n",
    "#            print m # month\n",
    "#            print v # value\n",
    "#            for i in c:\n",
    "#                print i # coordinates\n",
    "#        print \"-\"*74\n",
    "#"
   ]
  },
  {
   "cell_type": "code",
   "execution_count": 38,
   "metadata": {},
   "outputs": [
    {
     "name": "stdout",
     "output_type": "stream",
     "text": [
      "50К-22, Куйбышевский район, Новосибирская область, СФО, РФ\n"
     ]
    }
   ],
   "source": [
    "geolocator = Nominatim()\n",
    "location = geolocator.reverse(\"55.5, 78.166666666666629\")\n",
    "print(location.address)"
   ]
  },
  {
   "cell_type": "code",
   "execution_count": 85,
   "metadata": {},
   "outputs": [
    {
     "data": {
      "image/png": "[encoded data removed]",
      "text/plain": [
       "<matplotlib.figure.Figure at 0x7f8c94101990>"
      ]
     },
     "metadata": {},
     "output_type": "display_data"
    }
   ],
   "source": [
    "from osgeo import gdal\n",
    "import matplotlib.pyplot as plt\n",
    "import numpy as np\n",
    "from mpl_toolkits.basemap import Basemap\n",
    "\n",
    "# Plotting 2070 projected August (8) precip from worldclim\n",
    "gdata = gdal.Open(\"data/tavg/wc2.0_10m_tavg_01.tif\")\n",
    "geo = gdata.GetGeoTransform()\n",
    "data = gdata.ReadAsArray()\n",
    "\n",
    "xres = geo[1]\n",
    "yres = geo[5]\n",
    "\n",
    "# A good LCC projection for USA plots\n",
    "m = Basemap(llcrnrlon=-119,llcrnrlat=22,urcrnrlon=-64,urcrnrlat=49,\n",
    "            projection='lcc',lat_1=33,lon_0=-95)\n",
    "\n",
    "xmin = geo[0] + xres * 0.5\n",
    "xmax = geo[0] + (xres * gdata.RasterXSize) - xres * 0.5\n",
    "ymin = geo[3] + (yres * gdata.RasterYSize) + yres * 0.5\n",
    "ymax = geo[3] - yres * 0.5\n",
    "\n",
    "x,y = np.mgrid[xmin:xmax+xres:xres, ymax+yres:ymin:yres]\n",
    "x,y = m(x,y)\n",
    "\n",
    "cmap = plt.cm.gist_rainbow\n",
    "cmap.set_under ('1.0')\n",
    "cmap.set_bad('0.8')\n",
    "\n",
    "im = m.pcolormesh(x,y, data.T, cmap=cmap, vmin=45, vmax=0)\n",
    "\n",
    "cb = plt.colorbar( orientation='vertical', fraction=0.10, shrink=0.7)\n",
    "plt.title('Tavg')\n",
    "plt.show()"
   ]
  },
  {
   "cell_type": "code",
   "execution_count": null,
   "metadata": {
    "collapsed": true
   },
   "outputs": [],
   "source": []
  }
 ],
 "metadata": {
  "kernelspec": {
   "display_name": "Python 2",
   "language": "python",
   "name": "python2"
  },
  "language_info": {
   "codemirror_mode": {
    "name": "ipython",
    "version": 2
   },
   "file_extension": ".py",
   "mimetype": "text/x-python",
   "name": "python",
   "nbconvert_exporter": "python",
   "pygments_lexer": "ipython2",
   "version": "2.7.13"
  }
 },
 "nbformat": 4,
 "nbformat_minor": 2
}
